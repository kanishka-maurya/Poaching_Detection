{
 "cells": [
  {
   "cell_type": "code",
   "execution_count": null,
   "metadata": {},
   "outputs": [],
   "source": [
    "import pandas as pd\n",
    "import numpy as np\n",
    "import matplotlib.pyplot as plt\n",
    "import seaborn as sns\n",
    "\n",
    "import os\n",
    "import librosa\n",
    "import librosa.display\n",
    "\n",
    "from sklearn.model_selection import train_test_split"
   ]
  },
  {
   "cell_type": "code",
   "execution_count": 3,
   "metadata": {},
   "outputs": [],
   "source": [
    "df = pd.read_csv(\"Metadata (1).csv\",usecols=[\"Dataset File Name\",\"Class ID\",\"Class Name\"]) "
   ]
  },
  {
   "cell_type": "code",
   "execution_count": 4,
   "metadata": {},
   "outputs": [],
   "source": [
    "X = df['Dataset File Name']\n",
    "Y = df['Class Name']\n",
    "labels = df['Class Name'].unique()"
   ]
  },
  {
   "cell_type": "code",
   "execution_count": 5,
   "metadata": {},
   "outputs": [],
   "source": [
    "X_train, X_test, y_train, y_test = train_test_split(X, Y, test_size=0.2, random_state=2)"
   ]
  },
  {
   "cell_type": "code",
   "execution_count": null,
   "metadata": {},
   "outputs": [],
   "source": [
    "def time_shift_augmentation(file_path,output_path):\n",
    "\n",
    "    y, sr = librosa.load(file_path, sr=None)\n",
    "\n",
    "    shift_amount = 1000  # Shifts by 1000 samples \n",
    "\n",
    "    # Time shifts the audio\n",
    "    y_shifted = np.roll(y, shift_amount)\n",
    "\n",
    "    # Generating spectrograms for the shifted audios\n",
    "    S_shifted = librosa.feature.melspectrogram(y=y_shifted, sr=sr, n_fft=2048, hop_length=512, n_mels=128)\n",
    "    S_shifted_dB = librosa.power_to_db(S_shifted, ref=np.max)\n",
    "\n",
    "    plt.figure(figsize=(10, 4))\n",
    "    librosa.display.specshow(S_shifted_dB, sr=None, hop_length=512, x_axis=None, y_axis=None)  # Remove x and y axes\n",
    "    plt.axis('off')  # Turn off the axis\n",
    "    plt.tight_layout(pad=0)\n",
    "\n",
    "    plt.savefig(output_path, bbox_inches='tight', pad_inches=0)\n",
    "    plt.close()\n",
    "\n",
    "    "
   ]
  },
  {
   "cell_type": "code",
   "execution_count": 7,
   "metadata": {},
   "outputs": [],
   "source": [
    "aug_time_train_dir = 'spectrogram/train/'\n",
    "aug_time_test_dir = 'spectrogram/test/'\n",
    "os.makedirs(aug_time_train_dir, exist_ok=True)\n",
    "os.makedirs(aug_time_test_dir, exist_ok=True)\n",
    "\n",
    "for label in labels:  # 27 labels\n",
    "    label_aug_time_training_dir = os.path.join(aug_time_train_dir, label)\n",
    "    label_aug_time_testing_dir = os.path.join(aug_time_test_dir, label)\n",
    "    os.makedirs(label_aug_time_training_dir, exist_ok=True)\n",
    "    os.makedirs(label_aug_time_testing_dir, exist_ok=True)"
   ]
  },
  {
   "cell_type": "code",
   "execution_count": null,
   "metadata": {},
   "outputs": [],
   "source": [
    "# Generating mfccs and saving to the appropriate directories\n",
    "for wav_file, y in zip(X_train, y_train):\n",
    "    if wav_file.endswith('.wav'):\n",
    "        aug_time_train_path = aug_time_train_dir + y + \"/\" + wav_file[:-4] + \"T.png\"\n",
    "        time_shift_augmentation(r\"C:\\Users\\kanis\\Downloads\\Audio Files/\"+ wav_file, aug_time_train_path)"
   ]
  },
  {
   "cell_type": "code",
   "execution_count": 8,
   "metadata": {},
   "outputs": [
    {
     "name": "stderr",
     "output_type": "stream",
     "text": [
      "c:\\Users\\kanis\\Desktop\\Data_Vision\\.venv\\Lib\\site-packages\\librosa\\feature\\spectral.py:2143: UserWarning: Empty filters detected in mel frequency basis. Some channels will produce empty responses. Try increasing your sampling rate (and fmax) or reducing n_mels.\n",
      "  mel_basis = filters.mel(sr=sr, n_fft=n_fft, **kwargs)\n"
     ]
    }
   ],
   "source": [
    "for wav_file, y in zip(X_test, y_test):\n",
    "    if wav_file.endswith('.wav'):\n",
    "        aug_time_test_path = aug_time_test_dir + y + \"/\" + wav_file[:-4] + \"T.png\"\n",
    "        time_shift_augmentation(r\"C:\\Users\\kanis\\Downloads\\Audio Files/\"+ wav_file, aug_time_test_path)"
   ]
  },
  {
   "cell_type": "code",
   "execution_count": null,
   "metadata": {},
   "outputs": [],
   "source": [
    "def noise_shift_augmentation(file_path,output_path):  \n",
    "    \n",
    "    y, sr = librosa.load(file_path, sr=None)\n",
    "    \n",
    "    noise_level = 0.005  # Controls the noise level\n",
    "\n",
    "    # Generates random noise\n",
    "    noise = np.random.randn(len(y)) * noise_level\n",
    "\n",
    "    # Adds noise to the original audio\n",
    "    y_noisy = y + noise\n",
    "\n",
    "    # Generating spectrograms for the noisy audios\n",
    "    S_noisy = librosa.feature.melspectrogram(y = y_noisy, sr= sr, n_fft=2048, hop_length=512, n_mels=128)\n",
    "    S_noisy_dB = librosa.power_to_db(S_noisy, ref=np.max)\n",
    "\n",
    "    plt.figure(figsize=(10, 4))\n",
    "    librosa.display.specshow(S_noisy_dB, sr=None, hop_length=512, x_axis=None, y_axis=None)  # Remove x and y axes\n",
    "    plt.axis('off')  # Turn off the axis\n",
    "    plt.tight_layout(pad=0)\n",
    "\n",
    "    plt.savefig(output_path, bbox_inches='tight', pad_inches=0)\n",
    "    plt.close()"
   ]
  },
  {
   "cell_type": "code",
   "execution_count": 7,
   "metadata": {},
   "outputs": [],
   "source": [
    "aug_noise_train_dir = 'spectrogram/train/'\n",
    "aug_noise_test_dir = 'spectrogram/test/'\n",
    "os.makedirs(aug_noise_train_dir, exist_ok=True)\n",
    "os.makedirs(aug_noise_test_dir, exist_ok=True)\n",
    "\n",
    "for label in labels:  # 27 labels\n",
    "    label_aug_noise_training_dir = os.path.join(aug_noise_train_dir, label)\n",
    "    label_aug_noise_testing_dir = os.path.join(aug_noise_test_dir, label)\n",
    "    os.makedirs(label_aug_noise_training_dir, exist_ok=True)\n",
    "    os.makedirs(label_aug_noise_testing_dir, exist_ok=True)"
   ]
  },
  {
   "cell_type": "code",
   "execution_count": null,
   "metadata": {},
   "outputs": [],
   "source": [
    "# Generating mfccs and saving to the appropriate directories\n",
    "for wav_file, y in zip(X_train, y_train):\n",
    "    if wav_file.endswith('.wav'):\n",
    "        aug_time_train_path = aug_noise_train_dir + y + \"/\" + wav_file[:-4] + \"N.png\"\n",
    "        noise_shift_augmentation(r\"C:\\Users\\kanis\\Downloads\\Audio Files/\"+ wav_file, aug_time_train_path)\n"
   ]
  },
  {
   "cell_type": "code",
   "execution_count": 16,
   "metadata": {},
   "outputs": [
    {
     "name": "stderr",
     "output_type": "stream",
     "text": [
      "c:\\Users\\kanis\\Desktop\\Data_Vision\\.venv\\Lib\\site-packages\\librosa\\feature\\spectral.py:2143: UserWarning: Empty filters detected in mel frequency basis. Some channels will produce empty responses. Try increasing your sampling rate (and fmax) or reducing n_mels.\n",
      "  mel_basis = filters.mel(sr=sr, n_fft=n_fft, **kwargs)\n"
     ]
    }
   ],
   "source": [
    "for wav_file, y in zip(X_test, y_test):\n",
    "    if wav_file.endswith('.wav'):\n",
    "        aug_time_test_path = aug_noise_test_dir + y + \"/\" + wav_file[:-4] + \"N.png\"\n",
    "        noise_shift_augmentation(r\"C:\\Users\\kanis\\Downloads\\Audio Files/\"+ wav_file, aug_time_test_path)"
   ]
  }
 ],
 "metadata": {
  "kernelspec": {
   "display_name": ".venv",
   "language": "python",
   "name": "python3"
  },
  "language_info": {
   "codemirror_mode": {
    "name": "ipython",
    "version": 3
   },
   "file_extension": ".py",
   "mimetype": "text/x-python",
   "name": "python",
   "nbconvert_exporter": "python",
   "pygments_lexer": "ipython3",
   "version": "3.12.3"
  }
 },
 "nbformat": 4,
 "nbformat_minor": 2
}
