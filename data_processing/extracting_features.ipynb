{
 "cells": [
  {
   "cell_type": "code",
   "execution_count": 1,
   "id": "a12016bb-4074-4d7b-b81a-0303764dd28d",
   "metadata": {},
   "outputs": [],
   "source": [
    "import librosa\n",
    "import numpy as np\n",
    "import os\n",
    "import pandas as pd\n",
    "import librosa.display\n",
    "import matplotlib.pyplot as plt\n",
    "from sklearn.model_selection import train_test_split"
   ]
  },
  {
   "cell_type": "code",
   "execution_count": 2,
   "id": "377b5b70-be91-4fa1-8900-c98010e100e0",
   "metadata": {},
   "outputs": [],
   "source": [
    "df = pd.read_csv(\"Metadata (1).csv\",usecols=[\"Dataset File Name\",\"Class ID\",\"Class Name\"]) "
   ]
  },
  {
   "cell_type": "code",
   "execution_count": 3,
   "id": "5557e1ce-a02e-4f8e-8787-20635e992ff5",
   "metadata": {},
   "outputs": [],
   "source": [
    "X = df['Dataset File Name']\n",
    "Y = df['Class Name']\n",
    "labels = df['Class Name'].unique()"
   ]
  },
  {
   "cell_type": "code",
   "execution_count": 4,
   "id": "b8fe4d58-a822-498d-8041-c75f0de7a812",
   "metadata": {},
   "outputs": [],
   "source": [
    "X_train, X_test, y_train, y_test = train_test_split(X, Y, test_size=0.2, random_state=2)"
   ]
  },
  {
   "cell_type": "markdown",
   "id": "95b06083-ee33-4823-95cd-b1be694e6585",
   "metadata": {},
   "source": [
    "#### Extracting MFCCS"
   ]
  },
  {
   "cell_type": "code",
   "execution_count": null,
   "id": "b608f04e-7df8-4509-ab60-0f54ad3ff8c4",
   "metadata": {},
   "outputs": [],
   "source": [
    "def extract__mfccs_features(audio_path, output_path):\n",
    "    # Load the audio file\n",
    "    y, sr = librosa.load(audio_path, sr=None)\n",
    "    \n",
    "    # Extract MFCC\n",
    "    mfccs = librosa.feature.mfcc(y=y, sr=sr, n_mfcc=13)\n",
    "    \n",
    "    # Plot MFCCs\n",
    "    plt.figure(figsize=(10, 4))\n",
    "    librosa.display.specshow(mfccs, x_axis='time')\n",
    "    plt.axis('off')  # Turn off the axis\n",
    "    plt.tight_layout(pad=0)\n",
    "\n",
    "    plt.savefig(output_path, bbox_inches='tight', pad_inches=0)\n",
    "    plt.close()"
   ]
  },
  {
   "cell_type": "code",
   "execution_count": null,
   "id": "77acdaa4-d0a1-4a00-b749-b0af471966db",
   "metadata": {},
   "outputs": [],
   "source": [
    "mfccs_train_dir = 'new_features/mfccs/train/'\n",
    "mfccs_test_dir = 'new_features/mfccs/test/'\n",
    "os.makedirs(mfccs_train_dir, exist_ok=True)\n",
    "os.makedirs(mfccs_test_dir, exist_ok=True)"
   ]
  },
  {
   "cell_type": "code",
   "execution_count": null,
   "id": "a959b79f-ca1c-4330-b267-64c1033fb7c0",
   "metadata": {},
   "outputs": [],
   "source": [
    "for label in labels:  # 27 labels\n",
    "    label_mfccs_training_dir = os.path.join(mfccs_train_dir, label)\n",
    "    label_mfccs_testing_dir = os.path.join(mfccs_test_dir, label)\n",
    "    os.makedirs(label_mfccs_training_dir, exist_ok=True)\n",
    "    os.makedirs(label_mfccs_testing_dir, exist_ok=True)"
   ]
  },
  {
   "cell_type": "code",
   "execution_count": null,
   "id": "49d17696-433c-437b-9b64-c3e7e5c1d7f2",
   "metadata": {},
   "outputs": [
    {
     "name": "stderr",
     "output_type": "stream",
     "text": [
      "C:\\Users\\kanis\\anaconda3\\Lib\\site-packages\\librosa\\feature\\spectral.py:2143: UserWarning: Empty filters detected in mel frequency basis. Some channels will produce empty responses. Try increasing your sampling rate (and fmax) or reducing n_mels.\n",
      "  mel_basis = filters.mel(sr=sr, n_fft=n_fft, **kwargs)\n"
     ]
    }
   ],
   "source": [
    "# Generating mfccs and saving to the appropriate directories\n",
    "for wav_file, y in zip(X_train, y_train):\n",
    "    if wav_file.endswith('.wav'):\n",
    "        mfccs_training_path = mfccs_train_dir + y + \"/\" + wav_file[:-4] + \".png\"\n",
    "        extract__mfccs_features(r\"C:\\Users\\kanis\\Downloads\\Audio Files/\"+ wav_file, mfccs_training_path)\n",
    "\n",
    "for wav_file, y in zip(X_test, y_test):\n",
    "    if wav_file.endswith('.wav'):\n",
    "        mfcccs_testing_path = mfccs_test_dir + y + \"/\" + wav_file[:-4] + \".png\"\n",
    "        extract__mfccs_features(r\"C:\\Users\\kanis\\Downloads\\Audio Files/\"+ wav_file, mfcccs_testing_path)"
   ]
  },
  {
   "cell_type": "markdown",
   "id": "9e207386-c3cc-4576-9032-2a5600c48455",
   "metadata": {},
   "source": [
    "#### Extracting Chromas"
   ]
  },
  {
   "cell_type": "code",
   "execution_count": null,
   "id": "2e9615c3-441c-483f-b185-45bf436133d8",
   "metadata": {},
   "outputs": [],
   "source": [
    "def extract_chroma_features(audio_path, output_path):\n",
    "    # Load the audio file\n",
    "    y, sr = librosa.load(audio_path, sr=None)\n",
    "    \n",
    "    # Extract Chroma features\n",
    "    chroma = librosa.feature.chroma_stft(y=y, sr=sr)\n",
    "    \n",
    "    # Plot Chroma\n",
    "    plt.figure(figsize=(10, 4))\n",
    "    librosa.display.specshow(chroma, x_axis='time')\n",
    "    plt.axis('off')  # Turn off the axis\n",
    "    plt.tight_layout(pad=0)\n",
    "\n",
    "    plt.savefig(output_path, bbox_inches='tight', pad_inches=0)\n",
    "    plt.close()"
   ]
  },
  {
   "cell_type": "code",
   "execution_count": null,
   "id": "66ebb029-cade-47d3-923a-ff0d5ba7ded0",
   "metadata": {},
   "outputs": [],
   "source": [
    "chroma_train_dir = 'new_features/chroma/train/'\n",
    "chroma_test_dir = 'new_features/chroma/test/'\n",
    "os.makedirs(chroma_train_dir, exist_ok=True)\n",
    "os.makedirs(chroma_test_dir, exist_ok=True)"
   ]
  },
  {
   "cell_type": "code",
   "execution_count": null,
   "id": "a9359157-3aed-4ac0-9ee8-f33784fa3029",
   "metadata": {},
   "outputs": [],
   "source": [
    "X_train, X_test, y_train, y_test = train_test_split(X, Y, test_size=0.2, random_state=2)\n",
    "\n",
    "for label in labels:  # 27 labels\n",
    "    label_chroma_training_dir = os.path.join(chroma_train_dir, label)\n",
    "    label_chroma_testing_dir = os.path.join(chroma_test_dir, label)\n",
    "    os.makedirs(label_chroma_training_dir, exist_ok=True)\n",
    "    os.makedirs(label_chroma_testing_dir, exist_ok=True)"
   ]
  },
  {
   "cell_type": "code",
   "execution_count": null,
   "id": "9a515523-ed32-494e-8d2c-3de5f4976653",
   "metadata": {},
   "outputs": [
    {
     "name": "stderr",
     "output_type": "stream",
     "text": [
      "C:\\Users\\kanis\\anaconda3\\Lib\\site-packages\\librosa\\core\\pitch.py:101: UserWarning: Trying to estimate tuning from empty frequency set.\n",
      "  return pitch_tuning(\n"
     ]
    }
   ],
   "source": [
    "# Generating chromas and saving to the appropriate directories\n",
    "for wav_file, y in zip(X_train, y_train):\n",
    "    if wav_file.endswith('.wav'):\n",
    "        chroma_training_path = chroma_train_dir + y + \"/\" + wav_file[:-4] + \".png\"\n",
    "        extract_chroma_features(r\"C:\\Users\\kanis\\Downloads\\Audio Files/\"+wav_file, chroma_training_path)\n",
    "\n",
    "for wav_file, y in zip(X_test, y_test):\n",
    "    if wav_file.endswith('.wav'):\n",
    "        chroma_testing_path = chroma_test_dir + y + \"/\" + wav_file[:-4] + \".png\"\n",
    "        extract_chroma_features(r\"C:\\Users\\kanis\\Downloads\\Audio Files/\"+wav_file, chroma_testing_path)"
   ]
  },
  {
   "cell_type": "markdown",
   "id": "dbf573bc-ea52-4e8a-8af0-bdce2a771375",
   "metadata": {},
   "source": [
    "#### Extracting Log_Mel"
   ]
  },
  {
   "cell_type": "code",
   "execution_count": 5,
   "id": "aba627e4-1eca-41e6-9821-5eb292ee00c5",
   "metadata": {},
   "outputs": [],
   "source": [
    "def extract_log_mel_features(audio_path, output_path):\n",
    "    # Load the audio file\n",
    "    y, sr = librosa.load(audio_path, sr=None)\n",
    "    \n",
    "    # Extract Log-Mel Spectrogram\n",
    "    mel_spectrogram = librosa.feature.melspectrogram(y=y, sr=sr)\n",
    "    log_mel = librosa.power_to_db(mel_spectrogram)\n",
    "    \n",
    "    # Plot Log-Mel Spectrogram\n",
    "    librosa.display.specshow(log_mel, x_axis='time', y_axis='log')\n",
    "    plt.axis('off')  # Turn off the axis\n",
    "    plt.tight_layout(pad=0)\n",
    "\n",
    "    plt.savefig(output_path, bbox_inches='tight', pad_inches=0)\n",
    "    plt.close()\n"
   ]
  },
  {
   "cell_type": "code",
   "execution_count": 6,
   "id": "fec4691e-2320-41a0-b36c-b0f9f6131e16",
   "metadata": {},
   "outputs": [],
   "source": [
    "log_mel_train_dir = 'new_features/log_mel/train/'\n",
    "log_mel_test_dir = 'new_features/log_mel/test/'\n",
    "os.makedirs(log_mel_train_dir, exist_ok=True)\n",
    "os.makedirs(log_mel_test_dir, exist_ok=True)"
   ]
  },
  {
   "cell_type": "code",
   "execution_count": null,
   "id": "59297f2d-4f58-432d-a8c1-32c82dd7c20a",
   "metadata": {},
   "outputs": [],
   "source": [
    "X_train, X_test, y_train, y_test = train_test_split(X, Y, test_size=0.2, random_state=2)\n",
    "\n",
    "for label in labels:  # 27 labels\n",
    "    label_log_mel_training_dir = os.path.join(log_mel_train_dir, label)\n",
    "    label_log_mel_testing_dir = os.path.join(log_mel_test_dir, label)\n",
    "    os.makedirs(label_log_mel_training_dir, exist_ok=True)\n",
    "    os.makedirs(label_log_mel_testing_dir, exist_ok=True)"
   ]
  },
  {
   "cell_type": "code",
   "execution_count": null,
   "id": "1b63fc78-ff03-4866-989b-1c8c09b35b78",
   "metadata": {},
   "outputs": [],
   "source": [
    "# Generating log_mel and saving to the appropriate directories\n",
    "for wav_file, y in zip(X_train, y_train):\n",
    "    if wav_file.endswith('.wav'):\n",
    "        log_mel_training_path = log_mel_train_dir + y + \"/\" + wav_file[:-4] + \".png\"\n",
    "        extract_log_mel_features(r\"C:\\Users\\kanis\\Downloads\\Audio Files/\"+wav_file, log_mel_training_path)"
   ]
  },
  {
   "cell_type": "code",
   "execution_count": 8,
   "id": "927ca256-eab0-48c7-8a57-2cf606dd3959",
   "metadata": {},
   "outputs": [
    {
     "name": "stderr",
     "output_type": "stream",
     "text": [
      "c:\\Users\\kanis\\Desktop\\Data_Vision\\.venv\\Lib\\site-packages\\librosa\\feature\\spectral.py:2143: UserWarning: Empty filters detected in mel frequency basis. Some channels will produce empty responses. Try increasing your sampling rate (and fmax) or reducing n_mels.\n",
      "  mel_basis = filters.mel(sr=sr, n_fft=n_fft, **kwargs)\n"
     ]
    }
   ],
   "source": [
    "for wav_file, y in zip(X_test, y_test):\n",
    "    if wav_file.endswith('.wav'):\n",
    "        log_mel_testing_path = log_mel_test_dir + y + \"/\" + wav_file[:-4] + \".png\"\n",
    "        extract_log_mel_features(r\"C:\\Users\\kanis\\Downloads\\Audio Files/\"+wav_file, log_mel_testing_path)"
   ]
  },
  {
   "cell_type": "code",
   "execution_count": null,
   "id": "62860dd9",
   "metadata": {},
   "outputs": [],
   "source": []
  }
 ],
 "metadata": {
  "kernelspec": {
   "display_name": ".venv",
   "language": "python",
   "name": "python3"
  },
  "language_info": {
   "codemirror_mode": {
    "name": "ipython",
    "version": 3
   },
   "file_extension": ".py",
   "mimetype": "text/x-python",
   "name": "python",
   "nbconvert_exporter": "python",
   "pygments_lexer": "ipython3",
   "version": "3.12.3"
  }
 },
 "nbformat": 4,
 "nbformat_minor": 5
}
